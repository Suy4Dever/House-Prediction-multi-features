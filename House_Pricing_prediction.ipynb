{
 "cells": [
  {
   "cell_type": "code",
   "execution_count": 1,
   "id": "1790ed87",
   "metadata": {},
   "outputs": [],
   "source": [
    "import numpy as np\n",
    "import matplotlib.pyplot as plt"
   ]
  },
  {
   "cell_type": "code",
   "execution_count": 3,
   "id": "4a55d840",
   "metadata": {},
   "outputs": [],
   "source": [
    "x_train = np.array([[100, 2, 1, 3], [200, 2, 1, 1], [150, 1, 1, 1]])\n",
    "y_train = np.array([1000, 2500, 1700])"
   ]
  },
  {
   "cell_type": "code",
   "execution_count": 17,
   "id": "e75f0a0c",
   "metadata": {},
   "outputs": [],
   "source": [
    "def calculate_sum_deri_w_b(w, b, alpha, x, y):\n",
    "    m, n = x.shape\n",
    "    sum_deri_w = np.zeros(n)\n",
    "    sum_deri_b = 0\n",
    "    for i in range(m):\n",
    "        deri = np.dot(w, x[i]) + b - y[i]\n",
    "        for j in range(n):\n",
    "            sum_deri_w[j] += deri * x[i, j]\n",
    "        sum_deri_b += deri\n",
    "    return alpha * 1 / m * sum_deri_w, alpha * 1 / m * sum_deri_b"
   ]
  },
  {
   "cell_type": "code",
   "execution_count": 25,
   "id": "f97fc6b4",
   "metadata": {},
   "outputs": [],
   "source": [
    "def calculate_w_b(w, b, alpha, x, y):\n",
    "    num_iters = 100000\n",
    "    for i in range(num_iters):\n",
    "        w_iter, b_iter = calculate_sum_deri_w_b(w, b, alpha, x, y)\n",
    "        w -= w_iter\n",
    "        b -= b_iter\n",
    "    return w, b"
   ]
  },
  {
   "cell_type": "code",
   "execution_count": 26,
   "id": "49165a8e",
   "metadata": {},
   "outputs": [],
   "source": [
    "m = x_train.shape[1]\n",
    "w = np.zeros(m)\n",
    "b = 0\n",
    "alpha = 5e-7\n",
    "w, b = calculate_w_b(w, b, alpha, x_train, y_train)"
   ]
  },
  {
   "cell_type": "code",
   "execution_count": 27,
   "id": "cd866d84",
   "metadata": {},
   "outputs": [
    {
     "name": "stdout",
     "output_type": "stream",
     "text": [
      "[11.90050156 -2.12188577 -1.63764571 -7.27283293] -1.6376457073588\n"
     ]
    }
   ],
   "source": [
    "print(w, b)"
   ]
  },
  {
   "cell_type": "code",
   "execution_count": 28,
   "id": "c32ce369",
   "metadata": {},
   "outputs": [],
   "source": [
    "def calculate_prediction(w, b, x):\n",
    "    lst = []\n",
    "    for i in x:\n",
    "        lst.append(np.dot(w, i) + b)\n",
    "    return lst"
   ]
  },
  {
   "cell_type": "code",
   "execution_count": 29,
   "id": "c818d569",
   "metadata": {},
   "outputs": [
    {
     "name": "stdout",
     "output_type": "stream",
     "text": [
      "[1000 2500 1700]\n",
      "[1160.712593948526, 2365.308415497044, 1772.405223424343]\n"
     ]
    }
   ],
   "source": [
    "print(y_train)\n",
    "print(calculate_prediction(w, b, x_train))"
   ]
  },
  {
   "cell_type": "code",
   "execution_count": 32,
   "id": "d1c84f28",
   "metadata": {},
   "outputs": [
    {
     "name": "stdout",
     "output_type": "stream",
     "text": [
      "Prediction price of this house = 3538.6910195618457\n"
     ]
    }
   ],
   "source": [
    "# Prediction a house have 300 m^2, 3 bedroom, 1 living room and age 3 years\n",
    "x_data = np.array([[300, 3, 1, 3]])\n",
    "prediction = calculate_prediction(w, b, x_data)[0]\n",
    "print(f\"Prediction price of this house = {prediction}\")"
   ]
  },
  {
   "cell_type": "code",
   "execution_count": null,
   "id": "24758a1a",
   "metadata": {},
   "outputs": [],
   "source": []
  }
 ],
 "metadata": {
  "kernelspec": {
   "display_name": "Python 3 (ipykernel)",
   "language": "python",
   "name": "python3"
  },
  "language_info": {
   "codemirror_mode": {
    "name": "ipython",
    "version": 3
   },
   "file_extension": ".py",
   "mimetype": "text/x-python",
   "name": "python",
   "nbconvert_exporter": "python",
   "pygments_lexer": "ipython3",
   "version": "3.10.9"
  }
 },
 "nbformat": 4,
 "nbformat_minor": 5
}
